{
 "cells": [
  {
   "attachments": {},
   "cell_type": "markdown",
   "metadata": {},
   "source": [
    "# Cone search demo\n",
    "\n",
    "This notebook walks through performing a cone search of the pixels in a HiPSCat catalog. This shows strategies for visualizing a catalog's partitions, and using hipscat's spatial metadata to improve performance in targeted queries."
   ]
  },
  {
   "cell_type": "code",
   "execution_count": null,
   "metadata": {},
   "outputs": [],
   "source": [
    "import numpy as np\n",
    "from hipscat.catalog import Catalog\n",
    "from hipscat import inspection\n",
    "import healpy as hp\n",
    "\n",
    "## Fill in these variables with what's relevant in your use case:\n",
    "\n",
    "### Change this path!!!\n",
    "catalog_path = \"../../tests/data/small_sky_order1\"\n",
    "\n",
    "ra = 0  # degrees\n",
    "dec = -80  # degrees\n",
    "radius = 10  # degrees"
   ]
  },
  {
   "cell_type": "code",
   "execution_count": null,
   "metadata": {},
   "outputs": [],
   "source": [
    "## Load catalog\n",
    "\n",
    "catalog = Catalog.read_from_hipscat(catalog_path)"
   ]
  },
  {
   "cell_type": "code",
   "execution_count": null,
   "metadata": {},
   "outputs": [],
   "source": [
    "## Plot catalog pixels\n",
    "\n",
    "inspection.plot_pixels(catalog)"
   ]
  },
  {
   "cell_type": "code",
   "execution_count": null,
   "metadata": {},
   "outputs": [],
   "source": [
    "## Plot the cone using healpy for demonstration\n",
    "\n",
    "NSIDE = 256\n",
    "NPIX = hp.nside2npix(NSIDE)\n",
    "m = np.zeros(NPIX)\n",
    "center_vec = hp.ang2vec(ra, dec, lonlat=True)\n",
    "radius_radians = np.radians(radius)\n",
    "cone_pixels = hp.query_disc(NSIDE, center_vec, radius_radians)\n",
    "m[cone_pixels] = 1\n",
    "hp.mollview(m, title=\"Cone to search\")"
   ]
  },
  {
   "cell_type": "code",
   "execution_count": null,
   "metadata": {},
   "outputs": [],
   "source": [
    "## Filter catalog and plot filtered pixels\n",
    "\n",
    "filtered_catalog = catalog.filter_by_cone(ra, dec, radius)\n",
    "\n",
    "inspection.plot_pixels(filtered_catalog)"
   ]
  }
 ],
 "metadata": {
  "kernelspec": {
   "display_name": "hipscatenv",
   "language": "python",
   "name": "python3"
  },
  "language_info": {
   "codemirror_mode": {
    "name": "ipython",
    "version": 3
   },
   "file_extension": ".py",
   "mimetype": "text/x-python",
   "name": "python",
   "nbconvert_exporter": "python",
   "pygments_lexer": "ipython3",
   "version": "3.10.13"
  }
 },
 "nbformat": 4,
 "nbformat_minor": 2
}
